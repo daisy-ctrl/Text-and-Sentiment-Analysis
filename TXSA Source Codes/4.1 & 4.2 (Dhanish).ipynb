{
 "cells": [
  {
   "cell_type": "code",
   "execution_count": 1,
   "metadata": {},
   "outputs": [
    {
     "name": "stdout",
     "output_type": "stream",
     "text": [
      "New dataset results (Neutral, Positive, Negative sentiments included) have been successfully exported as Reviews_Sentiment.csv\n"
     ]
    }
   ],
   "source": [
    "from textblob import TextBlob\n",
    "import pandas as pd\n",
    "import numpy as np             # To provide NaN null feature\n",
    "\n",
    "# Creating an output file (Reviews_Sentiment.csv) to contain the Reviews and Sentiment columns\n",
    "csv_input = pd.read_csv(\"C:/Users/user/OneDrive/YEAR 3/1ST SEMESTER/TXSA/TXSA_Assignment/Group Assignment Data/Musical_Instruments_Reviews.csv\") \n",
    "csv_input['Sentiment'] = np.nan    # NaN values\n",
    "csv_input.to_csv(\"C:/Users/user/OneDrive/YEAR 3/1ST SEMESTER/TXSA/TXSA_Assignment/Group Assignment Data/Musical_Instruments_Reviews.csv\", index=False)\n",
    "\n",
    "\n",
    "data = pd.read_csv(\"C:/Users/user/OneDrive/YEAR 3/1ST SEMESTER/TXSA/TXSA_Assignment/Group Assignment Data/Musical_Instruments_Reviews.csv\")\n",
    "data.head()\n",
    "reviews = data['Reviews']\n",
    "reviews.count()\n",
    "\n",
    "line_index = 0\n",
    "line_num = 1\n",
    "\n",
    "# Removed unnecessary output lines for exporting\n",
    "for line in reviews:                    \n",
    "    sent = TextBlob(line)\n",
    "    if (sent.polarity == 0):\n",
    "        data.loc[line_index,'Sentiment'] = \"Neutral\"         # Insert neutral sentiment \n",
    "    else:\n",
    "        if (sent.polarity > -0):\n",
    "            data.loc[line_index,'Sentiment'] = \"Positive\"    # Insert positive sentiment\n",
    "        else:\n",
    "            data.loc[line_index,'Sentiment'] = \"Negative\"    # Insert negative sentiment\n",
    "    \n",
    "    line_index = line_index + 1\n",
    "    line_num = line_num + 1\n",
    "\n",
    "# Writing/Saving the file with the (pandas) added sentiments\n",
    "data.to_csv(\"C:/Users/user/OneDrive/YEAR 3/1ST SEMESTER/TXSA/TXSA_Assignment/Group Assignment Data/Reviews_Sentiments.csv\", index=False)\n",
    "\n",
    "print(\"New dataset results (Neutral, Positive, Negative sentiments included) have been successfully exported as Reviews_Sentiment.csv\")"
   ]
  },
  {
   "cell_type": "code",
   "execution_count": null,
   "metadata": {},
   "outputs": [],
   "source": []
  }
 ],
 "metadata": {
  "kernelspec": {
   "display_name": "Python 3",
   "language": "python",
   "name": "python3"
  },
  "language_info": {
   "codemirror_mode": {
    "name": "ipython",
    "version": 3
   },
   "file_extension": ".py",
   "mimetype": "text/x-python",
   "name": "python",
   "nbconvert_exporter": "python",
   "pygments_lexer": "ipython3",
   "version": "3.8.5"
  }
 },
 "nbformat": 4,
 "nbformat_minor": 4
}
